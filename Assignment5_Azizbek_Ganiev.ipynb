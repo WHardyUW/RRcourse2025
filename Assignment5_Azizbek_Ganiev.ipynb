{
 "cells": [
  {
   "cell_type": "code",
   "execution_count": null,
   "id": "2f86e784",
   "metadata": {
    "language": "bash"
   },
   "outputs": [],
   "source": [
    "MI@Azizbek Ganiev MINGW64 ~/Desktop/RR25/RRcourse2025/6. Coding and documentation (main)"
   ]
  },
  {
   "cell_type": "code",
   "execution_count": null,
   "id": "6b2e10d3",
   "metadata": {
    "language": "bash"
   },
   "outputs": [],
   "source": [
    "MI@Azizbek Ganiev MINGW64 ~/Desktop/RR25/RRcourse2025/6. Coding and documentation (main)"
   ]
  },
  {
   "cell_type": "code",
   "execution_count": null,
   "id": "b2aa2a51",
   "metadata": {
    "language": "bash"
   },
   "outputs": [],
   "source": [
    "git add cleaned_analysis.R\n",
    "git commit -m \"refactor: Vectorize operations, implement loops for standardization, improve code structure\"\n",
    "git push origin main\n",
    "fatal: pathspec 'cleaned_analysis.R' did not match any files\n",
    "On branch main\n",
    "Your branch is up to date with 'origin/main'.\n",
    "\n",
    "Changes not staged for commit:\n",
    "(use \"git add <file>...\" to update what will be committed)\n",
    "(use \"git restore <file>...\" to discard changes in working directory)\n",
    "modified:   Code assignment in Python.ipynb\n",
    "modified:   Code assignment in R.R\n",
    "\n",
    "Untracked files:\n",
    "(use \"git add <file>...\" to include in what will be committed)\n",
    "../.idea/\n",
    "\n",
    "no changes added to commit (use \"git add\" and/or \"git commit -a\")\n",
    "remote: Permission to WHardyUW/RRcourse2025.git denied to a.ganiev@student.uw.edu.pl.\n",
    "fatal: unable to access 'https://github.com/WHardyUW/RRcourse2025.git/': The requested URL returned error: 403\n"
   ]
  },
  {
   "cell_type": "code",
   "execution_count": null,
   "id": "16fd3611",
   "metadata": {
    "language": "bash"
   },
   "outputs": [],
   "source": [
    "MI@Azizbek Ganiev MINGW64 ~/Desktop/RR25/RRcourse2025/6. Coding and documentation (main)\n",
    "bash: syntax error near unexpected token `('\n",
    "bash: $: command not found\n",
    "On branch main\n",
    "Your branch is up to date with 'origin/main'.\n",
    "\n",
    "Changes not staged for commit:\n",
    "(use \"git add <file>...\" to update what will be committed)\n",
    "(use \"git restore <file>...\" to discard changes in working directory)\n",
    "modified:   Code assignment in Python.ipynb\n",
    "modified:   Code assignment in R.R\n",
    "\n",
    "Untracked files:\n",
    "(use \"git add <file>...\" to include in what will be committed)\n",
    "../.idea/\n",
    "\n",
    "no changes added to commit (use \"git add\" and/or \"git commit -a\")\n",
    "remote: Permission to WHardyUW/RRcourse2025.git denied to a.ganiev@student.uw.edu.pl."
   ]
  }
 ],
 "metadata": {},
 "nbformat": 4,
 "nbformat_minor": 5
}
