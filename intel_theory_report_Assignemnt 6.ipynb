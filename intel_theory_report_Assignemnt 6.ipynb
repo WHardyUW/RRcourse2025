{
 "cells": [
  {
   "cell_type": "markdown",
   "id": "4ceb3142",
   "metadata": {},
   "source": [
    "---\n",
    "title: \"Intel Theory Report\"\n",
    "author: \"Azizbek Ganiev\"\n",
    "date: \"`r Sys.Date()`\"\n",
    "output: html_document\n",
    "---"
   ]
  },
  {
   "cell_type": "markdown",
   "id": "20ceb7cd",
   "metadata": {},
   "source": [
    "{r setup, include=FALSE}\n",
    "knitr::opts_chunk$set(echo = TRUE)"
   ]
  },
  {
   "cell_type": "markdown",
   "id": "63fdea4d",
   "metadata": {},
   "source": [
    "## Introduction\n",
    "\n",
    "This report explores the viewership trends of the popular TV show *Intel Theory*. Using available datasets, we aim to analyze changes in ratings and viewers over different seasons.\n",
    "\n",
    "## Loading the Data"
   ]
  },
  {
   "cell_type": "markdown",
   "id": "1578fa43",
   "metadata": {},
   "source": [
    "{r}\n",
    "library(tidyverse)\n",
    "\n",
    "bbt <- read_csv(\"intel_theory.csv\")\n",
    "head(bbt)"
   ]
  },
  {
   "cell_type": "markdown",
   "id": "a0285106",
   "metadata": {},
   "source": [
    "## Data Cleaning"
   ]
  },
  {
   "cell_type": "markdown",
   "id": "7b302d24",
   "metadata": {},
   "source": [
    "{r}\n",
    "# Check for missing values\n",
    "sum(is.na(bbt))\n",
    "\n",
    "# Convert necessary columns to appropriate types if needed\n",
    "bbt$season <- as.factor(bbt$season)"
   ]
  },
  {
   "cell_type": "markdown",
   "id": "eb8e1064",
   "metadata": {},
   "source": [
    "## Summary Statistics"
   ]
  },
  {
   "cell_type": "markdown",
   "id": "6d22a2d2",
   "metadata": {},
   "source": [
    "{r}\n",
    "summary(bbt)"
   ]
  },
  {
   "cell_type": "markdown",
   "id": "044f2338",
   "metadata": {},
   "source": [
    "## Average Viewership by Season"
   ]
  },
  {
   "cell_type": "markdown",
   "id": "5791df94",
   "metadata": {},
   "source": [
    "{r}\n",
    "avg_viewers <- bbt %>%\n",
    "  group_by(season) %>%\n",
    "  summarize(mean_viewers = mean(us_viewers_millions, na.rm = TRUE))\n",
    "\n",
    "avg_viewers"
   ]
  },
  {
   "cell_type": "markdown",
   "id": "e3b45196",
   "metadata": {},
   "source": [
    "## Plotting Average Viewership"
   ]
  },
  {
   "cell_type": "markdown",
   "id": "338ef434",
   "metadata": {},
   "source": [
    "{r}\n",
    "ggplot(avg_viewers, aes(x = season, y = mean_viewers)) +\n",
    "  geom_bar(stat = \"identity\", fill = \"steelblue\") +\n",
    "  labs(title = \"Average Viewership per Season\",\n",
    "       x = \"Season\",\n",
    "       y = \"Average US Viewers (Millions)\") +\n",
    "  theme_minimal()"
   ]
  },
  {
   "cell_type": "markdown",
   "id": "bac9725c",
   "metadata": {},
   "source": [
    "## Episode Ratings Over Time"
   ]
  },
  {
   "cell_type": "markdown",
   "id": "8862e40c",
   "metadata": {},
   "source": [
    "{r}\n",
    "ggplot(bbt, aes(x = episode_number_overall, y = imdb_rating)) +\n",
    "  geom_line(color = \"darkgreen\") +\n",
    "  geom_smooth(method = \"loess\", color = \"blue\", se = FALSE) +\n",
    "  labs(title = \"IMDb Ratings Over Time\",\n",
    "       x = \"Episode Number (Overall)\",\n",
    "       y = \"IMDb Rating\") +\n",
    "  theme_light()"
   ]
  },
  {
   "cell_type": "markdown",
   "id": "3bda2421",
   "metadata": {},
   "source": [
    "## Conclusion\n",
    "\n",
    "From the analysis above, we observe trends in both viewership and IMDb ratings over the course of the show. Some fluctuations are evident, possibly corresponding to key plot developments or cast changes."
   ]
  }
 ],
 "metadata": {},
 "nbformat": 4,
 "nbformat_minor": 5
}
