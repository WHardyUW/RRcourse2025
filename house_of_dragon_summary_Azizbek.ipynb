{
 "cells": [
  {
   "cell_type": "markdown",
   "id": "970e685f",
   "metadata": {},
   "source": [
    "---\n",
    "title: \"House of the Dragon Summary\"\n",
    "author: \"Azizbek Ganiev\"\n",
    "date: today\n",
    "format: html\n",
    "params:\n",
    "  season: 1\n",
    "---"
   ]
  },
  {
   "cell_type": "code",
   "execution_count": null,
   "id": "8f0532ae",
   "metadata": {},
   "outputs": [],
   "source": [
    "#| tags: [parameters]\n",
    "season = 1"
   ]
  },
  {
   "cell_type": "code",
   "execution_count": null,
   "id": "7c9e5678",
   "metadata": {},
   "outputs": [],
   "source": [
    "#| tags: [parameters]\n",
    "file_path = f\"../Data/house_of_dragon_season_{season}.csv\""
   ]
  },
  {
   "cell_type": "markdown",
   "id": "08e4c6f9",
   "metadata": {},
   "source": [
    "# House of the Dragon - Season {season} Summary in Numbers\n",
    "\n",
    "> ⚠️ Spoilers ahead"
   ]
  },
  {
   "cell_type": "code",
   "execution_count": null,
   "id": "f29c2811",
   "metadata": {},
   "outputs": [],
   "source": [
    "import pandas as pd\n",
    "\n",
    "# Load data\n",
    "df = pd.read_csv(file_path)\n",
    "\n",
    "# Basic overview\n",
    "print(f\"Season {season} has {len(df)} rows and {df.shape[1]} columns.\")\n",
    "print(\"Data columns:\", list(df.columns))\n",
    "df.head()"
   ]
  },
  {
   "cell_type": "markdown",
   "id": "5a30e17a",
   "metadata": {},
   "source": [
    "### Overview\n",
    "\n",
    "(From the [Wikipedia](https://en.wikipedia.org/wiki/House_of_the_Dragon)) *House of the Dragon* is an American fantasy drama television series created by George R. R. Martin and Ryan Condal for HBO. It is a prequel to Game of Thrones and based on portions of Martin's 2018 novel *Fire & Blood*.\n",
    "\n",
    "The series is set nearly 200 years before the events of *Game of Thrones* and portrays the beginning of the end of House Targaryen—the events leading up to and covering the Targaryen civil war, known as the \"Dance of the Dragons\".\n"
   ]
  },
  {
   "cell_type": "markdown",
   "id": "d17e4e0f",
   "metadata": {},
   "source": [
    "***\n",
    "\n",
    "### Season {season} Summary from Wikipedia"
   ]
  },
  {
   "cell_type": "code",
   "execution_count": null,
   "id": "f24429e5",
   "metadata": {},
   "outputs": [],
   "source": [
    "import requests\n",
    "from bs4 import BeautifulSoup\n",
    "\n",
    "url = f\"https://en.wikipedia.org/wiki/House_of_the_Dragon_(season_{season})\"\n",
    "response = requests.get(url)\n",
    "soup = BeautifulSoup(response.content, \"html.parser\")\n",
    "\n",
    "summary = \"Plot summary not found.\"\n",
    "plot_header = soup.find(id=\"Plot\")\n",
    "if plot_header:\n",
    "    header_tag = plot_header.find_parent([\"h2\", \"h3\"])\n",
    "    next_tag = header_tag.find_next_sibling()\n",
    "    while next_tag and next_tag.name != \"p\":\n",
    "        next_tag = next_tag.find_next_sibling()\n",
    "    if next_tag and next_tag.name == \"p\":\n",
    "        summary = next_tag.get_text()\n",
    "\n",
    "print(summary)"
   ]
  },
  {
   "cell_type": "markdown",
   "id": "c98427be",
   "metadata": {},
   "source": [
    "### Episode Viewership Plot"
   ]
  },
  {
   "cell_type": "code",
   "execution_count": null,
   "id": "5ecff608",
   "metadata": {},
   "outputs": [],
   "source": [
    "import matplotlib.pyplot as plt\n",
    "\n",
    "# Load your data for the selected season\n",
    "season_data = pd.read_csv(file_path)\n",
    "\n",
    "plt.plot(season_data[\"viewers\"], color=\"purple\", linewidth=3)\n",
    "plt.xlabel(\"Episode number\")\n",
    "plt.ylabel(\"1st day TV viewers in the US (millions)\")\n",
    "plt.title(f\"House of the Dragon - Season {season} Viewership\")\n",
    "plt.grid(True)\n",
    "plt.show()"
   ]
  },
  {
   "cell_type": "markdown",
   "id": "eb6c5477",
   "metadata": {},
   "source": [
    "### Episodes With Above-Average Viewership"
   ]
  },
  {
   "cell_type": "code",
   "execution_count": null,
   "id": "bfa0a149",
   "metadata": {},
   "outputs": [],
   "source": [
    "from IPython.display import display\n",
    "\n",
    "avg_viewers = season_data[\"viewers\"].mean()\n",
    "above_avg = season_data[season_data[\"viewers\"] > avg_viewers]\n",
    "display(above_avg)"
   ]
  }
 ],
 "metadata": {},
 "nbformat": 4,
 "nbformat_minor": 5
}
