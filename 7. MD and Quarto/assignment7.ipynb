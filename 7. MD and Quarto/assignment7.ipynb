{
 "cells": [
  {
   "cell_type": "markdown",
   "id": "7b37239e",
   "metadata": {},
   "source": [
    "---\n",
    "title: \"Assignment Quarto\"\n",
    "author: \"Laura Piontek\"\n",
    "date: today()\n",
    "format:\n",
    "  html:\n",
    "    theme: cerulean\n",
    "    highlight: tango\n",
    "    toc: true\n",
    "    toc-depth: 2\n",
    "    number-sections: true\n",
    "    fig_caption: true\n",
    "    fig_width: 6\n",
    "    fig_height: 4\n",
    "    fig_caption: true\n",
    "    code-fold: true\n",
    "    code-summary: \"Show/Hide Code\"\n",
    "  pdf:\n",
    "    toc: true\n",
    "    toc-depth: 2\n",
    "    number-sections: true\n",
    "    fig_caption: true\n",
    "    fig_width: 6\n",
    "format: html\n",
    "execute:\n",
    "  echo: fenced\n",
    "---"
   ]
  },
  {
   "cell_type": "markdown",
   "id": "2a7acdb9",
   "metadata": {},
   "source": []
  },
  {
   "cell_type": "markdown",
   "id": "a9ff6aa8",
   "metadata": {},
   "source": [
    "### Table of Contents\n",
    "\n",
    "`---`\n",
    "<pre class=\"code-block\">\n",
    "title: \"Assignment Quarto\"\n",
    "\n",
    "</pre>\n",
    "`---`"
   ]
  },
  {
   "cell_type": "code",
   "execution_count": null,
   "id": "e4910b19",
   "metadata": {},
   "outputs": [],
   "source": []
  },
  {
   "cell_type": "markdown",
   "id": "9f6411e6",
   "metadata": {},
   "source": [
    "# The Good Place: Viewership Report 📺\n",
    "\n",
    "*The Good Place* is an American fantasy-comedy television series created by Michael Schur. \n",
    "It aired on NBC from 2016 to 2020 and gained attention for its unique take on ethics, \n",
    "the afterlife, and what it means to be a good person."
   ]
  },
  {
   "cell_type": "markdown",
   "id": "25a0f79e",
   "metadata": {},
   "source": [
    "![The Good Place](https://www.imdb.com/title/tt5764146/) is a show that has received critical acclaim and a dedicated fanbase."
   ]
  },
  {
   "cell_type": "markdown",
   "id": "6426e846",
   "metadata": {},
   "source": [
    "![](goodplace.jpeg)"
   ]
  },
  {
   "cell_type": "code",
   "execution_count": 1,
   "id": "1586f7f7",
   "metadata": {},
   "outputs": [
    {
     "name": "stdout",
     "output_type": "stream",
     "text": [
      "Number of tables found: 8\n",
      "\n",
      "Table 0\n",
      "  Season Episodes            Originally released                   Rank  \\\n",
      "  Season Episodes Episodes.1      First released     Last released Rank   \n",
      "0      1       13         13  September 19, 2016  January 19, 2017   77   \n",
      "1      2       13         13  September 20, 2017  February 1, 2018   77   \n",
      "2      3       13         13  September 27, 2018  January 24, 2019   99   \n",
      "3      4       14         14  September 26, 2019  January 30, 2020   92   \n",
      "\n",
      "  Average viewers (in millions inc. DVR)  \n",
      "  Average viewers (in millions inc. DVR)  \n",
      "0                               5.72[33]  \n",
      "1                               5.78[34]  \n",
      "2                               4.57[35]  \n",
      "3                               3.56[36]  \n",
      "\n",
      "Table 1\n",
      "   No. overall  No. in season                                    Title  \\\n",
      "0            1              1                  \"Everything Is Fine[c]\"   \n",
      "1            2              2                                 \"Flying\"   \n",
      "2            3              3                        \"Tahani Al-Jamil\"   \n",
      "3            4              4                          \"Jason Mendoza\"   \n",
      "4            5              5  \"Category 55 Emergency Doomsday Crisis\"   \n",
      "\n",
      "        Directed by [b] Written by [37] Original release date  \\\n",
      "0          Drew Goddard   Michael Schur    September 19, 2016   \n",
      "1      Michael McDonald       Alan Yang    September 19, 2016   \n",
      "2  Beth McCarthy-Miller  Aisha Muharrar    September 22, 2016   \n",
      "3           Payman Benz       Joe Mande    September 29, 2016   \n",
      "4        Morgan Sackett     Matt Murray       October 6, 2016   \n",
      "\n",
      "   Prod. code [37] U.S. viewers (millions)  \n",
      "0              101                8.04[38]  \n",
      "1              102                8.04[38]  \n",
      "2              103                5.25[39]  \n",
      "3              104                4.45[40]  \n",
      "4              109                4.97[41]  \n",
      "\n",
      "Table 2\n",
      "  No. overall  No. in season                            Title  \\\n",
      "0       14[d]              1  \"Everything Is Great!\" (Part 1)   \n",
      "1       15[d]              2  \"Everything Is Great!\" (Part 2)   \n",
      "2          16              3         \"Dance Dance Resolution\"   \n",
      "3          17              4                 \"Team Cockroach\"   \n",
      "4          18              5             \"Existential Crisis\"   \n",
      "\n",
      "        Directed by [b] Written by [b] Original release date  \\\n",
      "0       Trent O'Donnell    Jen Statsky    September 20, 2017   \n",
      "1       Trent O'Donnell      Joe Mande    September 20, 2017   \n",
      "2          Drew Goddard    Megan Amram    September 28, 2017   \n",
      "3        Morgan Sackett  Dan Schofield       October 5, 2017   \n",
      "4  Beth McCarthy-Miller     Andrew Law      October 12, 2017   \n",
      "\n",
      "  U.S. viewers (millions)  \n",
      "0                5.28[49]  \n",
      "1                5.28[49]  \n",
      "2                4.67[50]  \n",
      "3                4.17[51]  \n",
      "4                4.05[52]  \n",
      "\n",
      "Table 3\n",
      "  No. overall  No. in season                             Title  \\\n",
      "0       27[e]              1  \"Everything Is Bonzer!\" (Part 1)   \n",
      "1       28[e]              2  \"Everything Is Bonzer!\" (Part 2)   \n",
      "2          29              3                \"The Brainy Bunch\"   \n",
      "3          30              4                    \"The Snowplow\"   \n",
      "4          31              5                  \"Jeremy Bearimy\"   \n",
      "\n",
      "        Directed by [b]               Written by [b] Original release date  \\\n",
      "0          Dean Holland  Jen Statsky & Michael Schur    September 27, 2018   \n",
      "1          Dean Holland                  Jen Statsky    September 27, 2018   \n",
      "2             Jude Weng                Dan Schofield       October 4, 2018   \n",
      "3  Beth McCarthy-Miller                    Joe Mande      October 11, 2018   \n",
      "4       Trent O'Donnell                  Megan Amram      October 18, 2018   \n",
      "\n",
      "  U.S. viewers (millions)  \n",
      "0                3.13[62]  \n",
      "1                3.13[62]  \n",
      "2                2.96[63]  \n",
      "3                2.71[64]  \n",
      "4                2.70[65]  \n",
      "\n",
      "Table 4\n",
      "   No. overall  No. in season                           Title  \\\n",
      "0         40.0            1.0  \"A Girl from Arizona\" (Part 1)   \n",
      "1         41.0            2.0  \"A Girl from Arizona\" (Part 2)   \n",
      "2         42.0            3.0                    \"Chillaxing\"   \n",
      "3         43.0            4.0    \"Tinker, Tailor, Demon, Spy\"   \n",
      "4         44.0            5.0       \"Employee of the Bearimy\"   \n",
      "\n",
      "        Directed by [b]              Written by [b] Original release date  \\\n",
      "0          Drew Goddard  Andrew Law & Kassia Miller    September 26, 2019   \n",
      "1          Drew Goddard  Andrew Law & Kassia Miller       October 3, 2019   \n",
      "2            Anya Adams              Aisha Muharrar      October 10, 2019   \n",
      "3        Morgan Sackett              Cord Jefferson      October 17, 2019   \n",
      "4  Beth McCarthy-Miller                   Joe Mande      October 24, 2019   \n",
      "\n",
      "  U.S. viewers (millions)  \n",
      "0                2.42[74]  \n",
      "1                2.11[75]  \n",
      "2                1.92[76]  \n",
      "3                2.02[77]  \n",
      "4                1.91[78]  \n",
      "\n",
      "Table 5\n",
      "                                                 No.  \\\n",
      "0                                                  1   \n",
      "1  Shawn and the other demons discuss how to go a...   \n",
      "2                                                  2   \n",
      "3  Shawn and the demons try to come up with four ...   \n",
      "4                                                  3   \n",
      "\n",
      "                                               Title  \\\n",
      "0                              \"Part 1: The Mission\"   \n",
      "1  Shawn and the other demons discuss how to go a...   \n",
      "2                           \"Part 2: The Candidates\"   \n",
      "3  Shawn and the demons try to come up with four ...   \n",
      "4                        \"Part 3: The Takeout Order\"   \n",
      "\n",
      "                                     Directed by [b]  \\\n",
      "0                                       Eric Kissack   \n",
      "1  Shawn and the other demons discuss how to go a...   \n",
      "2                                       Eric Kissack   \n",
      "3  Shawn and the demons try to come up with four ...   \n",
      "4                                       Eric Kissack   \n",
      "\n",
      "                               Original release date  \\\n",
      "0                                 September 13, 2019   \n",
      "1  Shawn and the other demons discuss how to go a...   \n",
      "2                                 September 13, 2019   \n",
      "3  Shawn and the demons try to come up with four ...   \n",
      "4                                 September 13, 2019   \n",
      "\n",
      "                                          Unnamed: 4  \n",
      "0                                                NaN  \n",
      "1  Shawn and the other demons discuss how to go a...  \n",
      "2                                                NaN  \n",
      "3  Shawn and the demons try to come up with four ...  \n",
      "4                                                NaN  \n",
      "\n",
      "Table 6\n",
      "  Season          Episode number                                            \\\n",
      "  Season Season.1              1     2     3     4     5     6     7     8   \n",
      "0    NaN        1           8.04  8.04  5.25  4.45  4.97  4.23  3.79  3.89   \n",
      "1    NaN        2           5.28  5.28  4.67  4.17  4.05  3.92  3.97  3.06   \n",
      "2    NaN        3           3.13  3.13  2.96  2.71  2.70  2.67  2.72  2.77   \n",
      "3    NaN        4           2.42  2.11  1.92  2.02  1.91  2.21  1.98  2.06   \n",
      "\n",
      "                                      Average  \n",
      "      9    10    11    12    13    14 Average  \n",
      "0  3.68  3.53  3.64  3.93  3.93     –    4.72  \n",
      "1  3.08  3.11  3.00  3.65  3.19     –    3.88  \n",
      "2  2.69  2.58  2.72  2.52  2.39     –    2.74  \n",
      "3  2.05  2.08  1.93  2.12  2.32  2.32    2.09  \n",
      "\n",
      "Table 7\n",
      "  vteThe Good Place                                vteThe Good Place.1\n",
      "0           Seasons                                            1 2 3 4\n",
      "1          Episodes  \"Everything Is Fine\" \"Michael's Gambit\" \"Somew...\n",
      "2             Other                             Awards and nominations\n"
     ]
    }
   ],
   "source": [
    "import pandas as pd\n",
    "\n",
    "\n",
    "url = \"https://en.wikipedia.org/wiki/List_of_The_Good_Place_episodes\"\n",
    "\n",
    "\n",
    "tables = pd.read_html(url)\n",
    "\n",
    "# Display the number of tables found\n",
    "print(f\"Number of tables found: {len(tables)}\")\n",
    "\n",
    "\n",
    "for i, table in enumerate(tables):\n",
    "    print(f\"\\nTable {i}\")\n",
    "    print(table.head())\n"
   ]
  },
  {
   "cell_type": "code",
   "execution_count": 7,
   "id": "76db13eb",
   "metadata": {},
   "outputs": [
    {
     "name": "stdout",
     "output_type": "stream",
     "text": [
      "Average Viewers per Season:\n",
      "   Season  Average Viewers (millions)\n",
      "0       1                        5.72\n",
      "1       2                        5.78\n",
      "2       3                        4.57\n",
      "3       4                        3.56\n"
     ]
    },
    {
     "data": {
      "image/png": "[encoded data removed]",
      "text/plain": [
       "<Figure size 640x480 with 1 Axes>"
      ]
     },
     "metadata": {},
     "output_type": "display_data"
    }
   ],
   "source": [
    "\n",
    "import matplotlib.pyplot as plt  # Import matplotlib for plotting\n",
    "\n",
    "# Data from Wikipedia table\n",
    "data = {\n",
    "    \"Season\": [1, 2, 3, 4],\n",
    "    \"Average Viewers (millions)\": [5.72, 5.78, 4.57, 3.56]\n",
    "}\n",
    "df = pd.DataFrame(data)\n",
    "\n",
    "# Display the summary table\n",
    "print(\"Average Viewers per Season:\")\n",
    "print(df)\n",
    "\n",
    "# Plot the bar chart\n",
    "plt.figure()\n",
    "plt.bar(df[\"Season\"], df[\"Average Viewers (millions)\"])\n",
    "plt.xlabel(\"Season\")\n",
    "plt.ylabel(\"Average Viewers (millions)\")\n",
    "plt.title(\"Average Season Viewership for The Good Place\")\n",
    "plt.tight_layout()\n",
    "plt.savefig(\"season_viewership.png\")\n",
    "plt.show()"
   ]
  },
  {
   "cell_type": "markdown",
   "id": "752dfe56",
   "metadata": {},
   "source": []
  },
  {
   "cell_type": "markdown",
   "id": "de8231ec",
   "metadata": {},
   "source": [
    "Viewership peaked at 5.78 million in Season 2 and then declined by 38.4% to 3.56 million by Season 4."
   ]
  },
  {
   "cell_type": "code",
   "execution_count": 10,
   "id": "4e919195",
   "metadata": {},
   "outputs": [
    {
     "name": "stdout",
     "output_type": "stream",
     "text": [
      "Season-to-Season Viewership Changes:\n",
      "   Season  Change (millions)  Percent Change (%)\n",
      "0       1                NaN                 NaN\n",
      "1       2               0.06            1.048951\n",
      "2       3              -1.21          -20.934256\n",
      "3       4              -1.01          -22.100656\n"
     ]
    },
    {
     "data": {
      "image/png": "[encoded data removed]",
      "text/plain": [
       "<Figure size 640x480 with 1 Axes>"
      ]
     },
     "metadata": {},
     "output_type": "display_data"
    }
   ],
   "source": [
    "\n",
    "# Manual summary data from Wikipedia table\n",
    "data = {\n",
    "    \"Season\": [1, 2, 3, 4],\n",
    "    \"Average Viewers (millions)\": [5.72, 5.78, 4.57, 3.56]\n",
    "}\n",
    "df = pd.DataFrame(data)\n",
    "\n",
    "# Calculate season-to-season changes\n",
    "df['Change (millions)'] = df['Average Viewers (millions)'].diff()\n",
    "df['Percent Change (%)'] = df['Average Viewers (millions)'].pct_change() * 100\n",
    "\n",
    "# Display the table of changes\n",
    "print(\"Season-to-Season Viewership Changes:\")\n",
    "print(df[['Season', 'Change (millions)', 'Percent Change (%)']])\n",
    "\n",
    "# Plot the change graph\n",
    "plt.figure()\n",
    "plt.bar(df['Season'][1:], df['Change (millions)'][1:])\n",
    "plt.xlabel(\"Season\")\n",
    "plt.ylabel(\"Change in Viewers (millions)\")\n",
    "plt.title(\"Season-to-Season Change in Average Viewership\")\n",
    "plt.tight_layout()\n",
    "plt.savefig(\"season_viewership_change.png\")\n",
    "plt.show()"
   ]
  },
  {
   "cell_type": "markdown",
   "id": "63a65999",
   "metadata": {},
   "source": [
    "## Season-to-Season Viewership Changes\n",
    "\n",
    "<!-- Display table via pandas code cell or convert to markdown table -->\n",
    "![](season_viewership_change.png)\n"
   ]
  },
  {
   "cell_type": "markdown",
   "id": "ed1f132f",
   "metadata": {},
   "source": [
    "Viewership increased slightly by 0.06 million (1.0%) from Season 1 to Season 2, then dropped by 1.21 million (−20.97%) from Season 2 to 3, and further declined by 1.01 million (−22.11%) into Season 4."
   ]
  }
 ],
 "metadata": {
  "kernelspec": {
   "display_name": "base",
   "language": "python",
   "name": "python3"
  },
  "language_info": {
   "codemirror_mode": {
    "name": "ipython",
    "version": 3
   },
   "file_extension": ".py",
   "mimetype": "text/x-python",
   "name": "python",
   "nbconvert_exporter": "python",
   "pygments_lexer": "ipython3",
   "version": "3.12.7"
  }
 },
 "nbformat": 4,
 "nbformat_minor": 5
}
