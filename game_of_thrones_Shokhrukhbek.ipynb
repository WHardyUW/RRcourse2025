{
 "cells": [
  {
   "cell_type": "markdown",
   "id": "328f577c",
   "metadata": {},
   "source": [
    "---\n",
    "title: \"Game of Thrones Summary\"\n",
    "author: \"Shokhrukhbek Valijonov\"\n",
    "date: today\n",
    "format: html\n",
    "params:\n",
    "  season: 1\n",
    "---"
   ]
  },
  {
   "cell_type": "code",
   "execution_count": null,
   "id": "cf47d839",
   "metadata": {},
   "outputs": [],
   "source": [
    "#| tags: [parameters]\n",
    "season = 2"
   ]
  },
  {
   "cell_type": "code",
   "execution_count": null,
   "id": "3e5e1df3",
   "metadata": {},
   "outputs": [],
   "source": [
    "#| tags: [parameters]\n",
    "file_path = f\"../Data/season_{season}.csv\""
   ]
  },
  {
   "cell_type": "markdown",
   "id": "ba0ddd79",
   "metadata": {},
   "source": [
    "# Game of Thrones - Season {season} Summary in Numbers\n",
    "\n",
    "> ⚠️ Spoilers ahead"
   ]
  },
  {
   "cell_type": "code",
   "execution_count": null,
   "id": "1ad4c218",
   "metadata": {},
   "outputs": [],
   "source": [
    "import pandas as pd\n",
    "\n",
    "# Load data\n",
    "df = pd.read_csv(file_path)\n",
    "\n",
    "# Basic overview\n",
    "print(f\"Season {season} has {len(df)} rows and {df.shape[1]} columns.\")\n",
    "print(\"Data columns:\", list(df.columns))\n",
    "df.head()"
   ]
  },
  {
   "cell_type": "markdown",
   "id": "f83fcde4",
   "metadata": {},
   "source": [
    "### Overview\n",
    "\n",
    "(From the [Wikipedia](https://en.wikipedia.org/wiki/Game_of_Thrones#Premise)) Game of Thrones is an American fantasy drama television series created by David Benioff and D. B. Weiss for HBO. It is an adaptation of A Song of Ice and Fire, a series of fantasy novels by George R. R. Martin, the first of which is A Game of Thrones.\n",
    "\n",
    "Set on the fictional continents of Westeros and Essos, Game of Thrones has a large ensemble cast and follows several story arcs throughout the course of the show. A major arc concerns the Iron Throne of the Seven Kingdoms of Westeros through a web of political conflicts among the noble families either vying to claim the throne or fighting for independence from it. Another focuses on the last descendant of the realm's deposed ruling dynasty, who has been exiled to Essos and is plotting a return to the throne. A third story arc follows the Night's Watch, a military order defending the realm against threats from the North."
   ]
  },
  {
   "cell_type": "markdown",
   "id": "91db7da8",
   "metadata": {},
   "source": [
    "***\n",
    "\n",
    "### Season {season} Summary from Wikipedia"
   ]
  },
  {
   "cell_type": "code",
   "execution_count": null,
   "id": "daf9cc53",
   "metadata": {},
   "outputs": [],
   "source": [
    "import requests\n",
    "from bs4 import BeautifulSoup\n",
    "\n",
    "url = f\"https://en.wikipedia.org/wiki/Game_of_Thrones_(season_{season})\"\n",
    "response = requests.get(url)\n",
    "soup = BeautifulSoup(response.content, \"html.parser\")\n",
    "\n",
    "summary = \"Plot summary not found.\"\n",
    "plot_header = soup.find(id=\"Plot\")\n",
    "if plot_header:\n",
    "    header_tag = plot_header.find_parent([\"h2\", \"h3\"])\n",
    "    next_tag = header_tag.find_next_sibling()\n",
    "    while next_tag and next_tag.name != \"p\":\n",
    "        next_tag = next_tag.find_next_sibling()\n",
    "    if next_tag and next_tag.name == \"p\":\n",
    "        summary = next_tag.get_text()\n",
    "\n",
    "print(summary)"
   ]
  },
  {
   "cell_type": "markdown",
   "id": "407d7927",
   "metadata": {},
   "source": [
    "### Episode Viewership Plot"
   ]
  },
  {
   "cell_type": "code",
   "execution_count": null,
   "id": "0991660a",
   "metadata": {},
   "outputs": [],
   "source": [
    "import matplotlib.pyplot as plt\n",
    "\n",
    "# Load your data for the selected season\n",
    "file_path = f\"../Data/season_{season}.csv\"  # Make sure CSV files are in this folder\n",
    "season_data = pd.read_csv(file_path)\n",
    "\n",
    "plt.plot(season_data[\"viewers\"], color=\"red\", linewidth=3)\n",
    "plt.xlabel(\"Episode number\")\n",
    "plt.ylabel(\"1st day TV viewers in the US (millions)\")\n",
    "plt.title(f\"Season {season} Viewership\")\n",
    "plt.grid(True)\n",
    "plt.show()"
   ]
  },
  {
   "cell_type": "markdown",
   "id": "59019621",
   "metadata": {},
   "source": [
    "### Episodes With Above-Average Viewership"
   ]
  },
  {
   "cell_type": "code",
   "execution_count": null,
   "id": "9492b841",
   "metadata": {},
   "outputs": [],
   "source": [
    "from IPython.display import display\n",
    "\n",
    "avg_viewers = season_data[\"viewers\"].mean()\n",
    "above_avg = season_data[season_data[\"viewers\"] > avg_viewers]\n",
    "display(above_avg)"
   ]
  }
 ],
 "metadata": {},
 "nbformat": 4,
 "nbformat_minor": 5
}
