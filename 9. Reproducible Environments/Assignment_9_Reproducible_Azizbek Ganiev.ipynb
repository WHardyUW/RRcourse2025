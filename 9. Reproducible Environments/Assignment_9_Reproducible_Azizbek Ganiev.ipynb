{
  "cells": [
    {
      "cell_type": "markdown",
      "id": "01343fa6",
      "metadata": {},
      "source": [
        "**Name: Azizbek Ganiev**"
      ]
    },
    {
      "cell_type": "markdown",
      "id": "1ded6e58",
      "metadata": {},
      "source": [
        "# Assignment 9: Reproducible Environments"
      ]
    },
    {
      "cell_type": "markdown",
      "id": "1ae3f31d",
      "metadata": {},
      "source": [
        "## 1. Why is reproducibility important in research? What are common barriers?"
      ]
    },
    {
      "cell_type": "markdown",
      "id": "bd39ace5",
      "metadata": {},
      "source": [
        "\n",
        "**Answer:**\n",
        "\n",
        "Reproducibility ensures that research findings can be verified, trusted, and built upon. It allows others to rerun the analysis using the same data and code to obtain the same results.\n",
        "\n",
        "**Common barriers to reproducibility:**\n",
        "- Lack of proper documentation\n",
        "- Changes in package/software versions\n",
        "- Missing or proprietary data\n",
        "- Inconsistent coding practices\n",
        "- No use of version control tools (e.g., Git)\n"
      ]
    },
    {
      "cell_type": "markdown",
      "id": "b3db58e0",
      "metadata": {},
      "source": [
        "## 2. Use `renv` to create a reproducible R environment"
      ]
    },
    {
      "cell_type": "code",
      "execution_count": null,
      "id": "cb76cf5d",
      "metadata": {},
      "outputs": [],
      "source": [
        "# In R:\n",
        "install.packages(\"renv\")\n",
        "renv::init()\n"
      ]
    },
    {
      "cell_type": "code",
      "execution_count": null,
      "id": "09e2e396",
      "metadata": {},
      "outputs": [],
      "source": [
        "# Install packages and snapshot the environment\n",
        "install.packages(c(\"ggplot2\", \"dplyr\"))\n",
        "renv::snapshot()\n"
      ]
    },
    {
      "cell_type": "markdown",
      "id": "0073764f",
      "metadata": {},
      "source": [
        "## 3. Use `groundhog` as an alternative for reproducibility"
      ]
    },
    {
      "cell_type": "code",
      "execution_count": null,
      "id": "13699b18",
      "metadata": {},
      "outputs": [],
      "source": [
        "# In R:\n",
        "install.packages(\"groundhog\")\n",
        "library(groundhog)\n",
        "groundhog.library(\"ggplot2\", \"2023-10-01\")\n",
        "groundhog.library(\"dplyr\", \"2023-10-01\")\n"
      ]
    },
    {
      "cell_type": "markdown",
      "id": "6cbe3164",
      "metadata": {},
      "source": [
        "\n",
        "**Comparison between `renv` and `groundhog`:**\n",
        "\n",
        "| Feature         | renv                           | groundhog                            |\n",
        "|----------------|----------------------------------|--------------------------------------|\n",
        "| Scope          | Project-specific environments   | Script-specific version control      |\n",
        "| Lockfile       | Yes (`renv.lock`)               | No lockfile; uses date-based logic   |\n",
        "| Use case       | Full reproducible projects       | Ensuring consistent versions in scripts |\n"
      ]
    },
    {
      "cell_type": "markdown",
      "id": "c5c17526",
      "metadata": {},
      "source": [
        "## 4. Document the environment (sessionInfo)"
      ]
    },
    {
      "cell_type": "code",
      "execution_count": null,
      "id": "ce902fb4",
      "metadata": {},
      "outputs": [],
      "source": [
        "# In R:\n",
        "sessionInfo()\n"
      ]
    },
    {
      "cell_type": "markdown",
      "id": "f0fc40fa",
      "metadata": {},
      "source": [
        "## 5. Share project on GitHub"
      ]
    },
    {
      "cell_type": "markdown",
      "id": "2b725308",
      "metadata": {},
      "source": [
        "\n",
        "1. Create a GitHub repository.\n",
        "2. Push your R project files:\n",
        "   - `renv/` folder\n",
        "   - `renv.lock`\n",
        "   - All `.R` or `.qmd` files\n",
        "   - `README.md`\n",
        "3. Example `README.md` content:\n",
        "\n",
        "```markdown\n",
        "# Reproducible Environments Assignment\n",
        "\n",
        "This project demonstrates how to use `renv` and `groundhog` to manage reproducible R environments. \n",
        "All packages are documented in `renv.lock`, and the R session is recorded using `sessionInfo()`.\n",
        "```\n"
      ]
    }
  ],
  "metadata": {},
  "nbformat": 4,
  "nbformat_minor": 5
}