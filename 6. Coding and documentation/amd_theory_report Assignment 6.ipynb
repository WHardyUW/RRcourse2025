{
 "cells": [
  {
   "cell_type": "markdown",
   "id": "223932ec",
   "metadata": {},
   "source": [
    "---\n",
    "title: \"AMD Theory Report\"\n",
    "author: \"Shokhrukhbek Valijonov\"\n",
    "date: \"`r Sys.Date()`\"\n",
    "output: html_document\n",
    "---"
   ]
  },
  {
   "cell_type": "markdown",
   "id": "7610811b",
   "metadata": {},
   "source": [
    "{r setup, include=FALSE}\n",
    "knitr::opts_chunk$set(echo = TRUE)"
   ]
  },
  {
   "cell_type": "markdown",
   "id": "fd55c80a",
   "metadata": {},
   "source": [
    "## Introduction\n",
    "\n",
    "This report explores the viewership trends of the popular TV show *AMD Theory*. Using available datasets, we aim to analyze changes in ratings and viewers over different seasons.\n",
    "\n",
    "## Loading the Data"
   ]
  },
  {
   "cell_type": "markdown",
   "id": "e54161d6",
   "metadata": {},
   "source": [
    "{r}\n",
    "library(tidyverse)\n",
    "\n",
    "bbt <- read_csv(\"intel_theory.csv\")\n",
    "head(bbt)"
   ]
  },
  {
   "cell_type": "markdown",
   "id": "2c88ecf1",
   "metadata": {},
   "source": [
    "## Data Cleaning"
   ]
  },
  {
   "cell_type": "markdown",
   "id": "6eaf8036",
   "metadata": {},
   "source": [
    "{r}\n",
    "# Check for missing values\n",
    "sum(is.na(bbt))\n",
    "\n",
    "# Convert necessary columns to appropriate types if needed\n",
    "bbt$season <- as.factor(bbt$season)"
   ]
  },
  {
   "cell_type": "markdown",
   "id": "a6ca69fa",
   "metadata": {},
   "source": [
    "## Summary Statistics"
   ]
  },
  {
   "cell_type": "markdown",
   "id": "c73e4da8",
   "metadata": {},
   "source": [
    "{r}\n",
    "summary(bbt)"
   ]
  },
  {
   "cell_type": "markdown",
   "id": "934024d6",
   "metadata": {},
   "source": [
    "## Average Viewership by Season"
   ]
  },
  {
   "cell_type": "markdown",
   "id": "8288e818",
   "metadata": {},
   "source": [
    "{r}\n",
    "avg_viewers <- bbt %>%\n",
    "  group_by(season) %>%\n",
    "  summarize(mean_viewers = mean(us_viewers_millions, na.rm = TRUE))\n",
    "\n",
    "avg_viewers"
   ]
  },
  {
   "cell_type": "markdown",
   "id": "73e3e004",
   "metadata": {},
   "source": [
    "## Plotting Average Viewership"
   ]
  },
  {
   "cell_type": "markdown",
   "id": "cd2ef80a",
   "metadata": {},
   "source": [
    "{r}\n",
    "ggplot(avg_viewers, aes(x = season, y = mean_viewers)) +\n",
    "  geom_bar(stat = \"identity\", fill = \"steelblue\") +\n",
    "  labs(title = \"Average Viewership per Season\",\n",
    "       x = \"Season\",\n",
    "       y = \"Average US Viewers (Millions)\") +\n",
    "  theme_minimal()"
   ]
  },
  {
   "cell_type": "markdown",
   "id": "9db1e84b",
   "metadata": {},
   "source": [
    "## Episode Ratings Over Time"
   ]
  },
  {
   "cell_type": "markdown",
   "id": "23fed3d6",
   "metadata": {},
   "source": [
    "{r}\n",
    "ggplot(bbt, aes(x = episode_number_overall, y = imdb_rating)) +\n",
    "  geom_line(color = \"darkgreen\") +\n",
    "  geom_smooth(method = \"loess\", color = \"blue\", se = FALSE) +\n",
    "  labs(title = \"IMDb Ratings Over Time\",\n",
    "       x = \"Episode Number (Overall)\",\n",
    "       y = \"IMDb Rating\") +\n",
    "  theme_light()"
   ]
  },
  {
   "cell_type": "markdown",
   "id": "ac47664c",
   "metadata": {},
   "source": [
    "## Conclusion\n",
    "\n",
    "From the analysis above, we observe trends in both viewership and IMDb ratings over the course of the show. Some fluctuations are evident, possibly corresponding to key plot developments or cast changes."
   ]
  }
 ],
 "metadata": {},
 "nbformat": 4,
 "nbformat_minor": 5
}
