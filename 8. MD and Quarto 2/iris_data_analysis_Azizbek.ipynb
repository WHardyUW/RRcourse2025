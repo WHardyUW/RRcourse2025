{
 "cells": [
  {
   "cell_type": "markdown",
   "id": "647b9538",
   "metadata": {},
   "source": [
    "---\n",
    "title: \"Iris Flower Dataset Analysis\"\n",
    "author: \"Azizbek Ganiev\"\n",
    "date: today\n",
    "format:\n",
    "  html:\n",
    "    toc: true\n",
    "    toc-depth: 2\n",
    "    toc-expand: 2\n",
    "    toc-title: \"Contents\"\n",
    "    toc-location: body\n",
    "    smooth-scroll: true\n",
    "    theme: superhero\n",
    "    code-fold: true\n",
    "    code-summary: \"Show/hide code\"\n",
    "    embed-resources: true\n",
    "number-sections: true\n",
    "number-depth: 2\n",
    "execute:\n",
    "  echo: true\n",
    "  warning: false\n",
    "  freeze: auto\n",
    "code-annotations: below\n",
    "title-block-banner: true\n",
    "---"
   ]
  },
  {
   "cell_type": "markdown",
   "id": "571b9512",
   "metadata": {},
   "source": [
    "## Introduction\n",
    "\n",
    "The Iris flower dataset is a multivariate dataset introduced by the British statistician and biologist Ronald Fisher in his 1936 paper. It is one of the most famous databases in pattern recognition.\n",
    "\n",
    "This dataset includes 150 samples from each of three species of Iris flowers (*Iris setosa*, *Iris virginica*, and *Iris versicolor*). Four features were measured from each sample: the lengths and the widths of the sepals and petals.\n"
   ]
  },
  {
   "cell_type": "code",
   "execution_count": null,
   "id": "f7b09b1d",
   "metadata": {},
   "outputs": [],
   "source": [
    "import pandas as pd\n",
    "from sklearn.datasets import load_iris\n",
    "\n",
    "# Load Iris dataset\n",
    "iris = load_iris()\n",
    "df = pd.DataFrame(data=iris.data, columns=iris.feature_names)\n",
    "df['species'] = pd.Categorical.from_codes(iris.target, iris.target_names)\n",
    "df.head()"
   ]
  },
  {
   "cell_type": "markdown",
   "id": "92bee77e",
   "metadata": {},
   "source": [
    "## Basic Statistics"
   ]
  },
  {
   "cell_type": "code",
   "execution_count": null,
   "id": "55952549",
   "metadata": {},
   "outputs": [],
   "source": [
    "df.describe()"
   ]
  },
  {
   "cell_type": "markdown",
   "id": "488cd8d2",
   "metadata": {},
   "source": [
    "## Visualize Features"
   ]
  },
  {
   "cell_type": "code",
   "execution_count": null,
   "id": "d71c2aa6",
   "metadata": {},
   "outputs": [],
   "source": [
    "import matplotlib.pyplot as plt\n",
    "import seaborn as sns\n",
    "\n",
    "sns.pairplot(df, hue='species')\n",
    "plt.show()"
   ]
  },
  {
   "cell_type": "markdown",
   "id": "778cf771",
   "metadata": {},
   "source": [
    "## Observations"
   ]
  },
  {
   "cell_type": "markdown",
   "id": "57c0def5",
   "metadata": {},
   "source": [
    "- *Iris setosa* is linearly separable from the other two species.\n",
    "- *Iris versicolor* and *Iris virginica* have overlapping measurements.\n",
    "- Petal measurements are more effective for classification than sepal measurements.\n"
   ]
  }
 ],
 "metadata": {},
 "nbformat": 4,
 "nbformat_minor": 5
}
