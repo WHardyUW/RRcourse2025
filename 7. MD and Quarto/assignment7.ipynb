{
 "cells": [
  {
   "cell_type": "markdown",
   "id": "9f6411e6",
   "metadata": {},
   "source": [
    "# The Good Place: Viewership Report 📺\n",
    "\n",
    "*The Good Place* is an American fantasy-comedy television series created by Michael Schur. \n",
    "It aired on NBC from 2016 to 2020 and gained attention for its unique take on ethics, \n",
    "the afterlife, and what it means to be a good person."
   ]
  }
 ],
 "metadata": {
  "language_info": {
   "name": "python"
  }
 },
 "nbformat": 4,
 "nbformat_minor": 5
}
