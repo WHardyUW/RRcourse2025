{
 "cells": [
  {
   "cell_type": "markdown",
   "id": "b1243031",
   "metadata": {},
   "source": [
    "---\n",
    "title: \"Friends TV Show Analysis\"\n",
    "author: \"Shokhrukhbek Valijonov\"\n",
    "date: today\n",
    "format:\n",
    "  html:\n",
    "    toc: true\n",
    "    toc-depth: 2\n",
    "    toc-expand: 2\n",
    "    toc-title: \"Contents\"\n",
    "    toc-location: body\n",
    "    smooth-scroll: true\n",
    "    theme: superhero\n",
    "    code-fold: true\n",
    "    code-summary: \"Show/hide code\"\n",
    "    embed-resources: true\n",
    "number-sections: true\n",
    "number-depth: 2\n",
    "execute:\n",
    "  echo: true\n",
    "  warning: false\n",
    "  freeze: auto\n",
    "code-annotations: below\n",
    "title-block-banner: true\n",
    "---"
   ]
  },
  {
   "cell_type": "markdown",
   "id": "342a4cfc",
   "metadata": {},
   "source": [
    "## Introduction\n",
    "\n",
    "*Friends* is an American television sitcom created by David Crane and Marta Kauffman, which aired on NBC from September 22, 1994, to May 6, 2004. The show revolves around six friends in their 20s and 30s who live in Manhattan, New York City. Known for its humor, memorable characters, and emotional depth, *Friends* quickly became one of the most popular TV shows of all time.\n"
   ]
  },
  {
   "cell_type": "markdown",
   "id": "2ae73d98",
   "metadata": {},
   "source": [
    "## Show Logo\n",
    "\n",
    "![](friends_report_files/images/friends_logo.jpg){fig-align=\"center\" width=400px}\n"
   ]
  },
  {
   "cell_type": "markdown",
   "id": "e0ad5435",
   "metadata": {},
   "source": [
    "## Viewership Summary\n",
    "\n",
    "*Friends* ran for 10 seasons, totaling 236 episodes. It was one of the most-watched TV shows in the United States during its original airing.\n",
    "\n",
    "- The show premiered to 21.5 million viewers.\n",
    "- Its most-watched episode, *\"The One After the Superbowl\"*, drew 52.9 million viewers.\n",
    "- The final episode was watched by 52.5 million people, making it the fifth most-watched series finale in U.S. television history.\n",
    "\n",
    "Below, we’ll explore the viewership trends across the seasons.\n"
   ]
  },
  {
   "cell_type": "code",
   "execution_count": null,
   "id": "b85de8f6",
   "metadata": {},
   "outputs": [],
   "source": [
    "import pandas as pd\n",
    "\n",
    "# Average U.S. viewership per season (in millions)\n",
    "viewership_data = {\n",
    "    \"Season\": list(range(1, 11)),\n",
    "    \"Average_Viewers\": [24.5, 29.4, 25.0, 24.7, 24.6, 20.0, 20.2, 21.6, 21.6, 22.8]\n",
    "}\n",
    "\n",
    "df = pd.DataFrame(viewership_data)\n",
    "df"
   ]
  },
  {
   "cell_type": "markdown",
   "id": "dc767e0a",
   "metadata": {},
   "source": [
    "## Viewership graph overtime"
   ]
  },
  {
   "cell_type": "code",
   "execution_count": null,
   "id": "6f450f72",
   "metadata": {},
   "outputs": [],
   "source": [
    "import matplotlib.pyplot as plt\n",
    "\n",
    "plt.figure(figsize=(10, 6))\n",
    "plt.plot(df['Season'], df['Average_Viewers'], marker='o', color='blue')\n",
    "plt.title('Friends Viewership by Season')\n",
    "plt.xlabel('Season')\n",
    "plt.ylabel('Average Viewers (Millions)')\n",
    "plt.xticks(df['Season'])\n",
    "plt.grid(True)\n",
    "plt.show()"
   ]
  },
  {
   "cell_type": "markdown",
   "id": "f9956ff1",
   "metadata": {},
   "source": [
    "## Calculate Season-to-Season Changes and Plot Season-to-Season Change"
   ]
  },
  {
   "cell_type": "code",
   "execution_count": null,
   "id": "412e5b1c",
   "metadata": {},
   "outputs": [],
   "source": [
    "# Calculate percentage change\n",
    "df['Pct_Change'] = df['Average_Viewers'].pct_change() * 100\n",
    "plt.figure(figsize=(10, 6))\n",
    "plt.bar(df['Season'][1:], df['Pct_Change'][1:], color='green')\n",
    "plt.title('Season-to-Season Change in Viewership (%)')\n",
    "plt.xlabel('Season')\n",
    "plt.ylabel('Change (%)')\n",
    "plt.grid(True)\n",
    "plt.show()"
   ]
  },
  {
   "cell_type": "markdown",
   "id": "2281781e",
   "metadata": {},
   "source": [
    "## Observations\n",
    "\n",
    "- *Friends* reached its peak average viewership in Season 2 with 29.4 million viewers.\n",
    "- The most significant drop happened between Season 5 and 6, decreasing by 19.4%.\n",
    "- Viewership began to stabilize again from Season 7 onward, ending with 22.8 million in the final season."
   ]
  }
 ],
 "metadata": {},
 "nbformat": 4,
 "nbformat_minor": 5
}
