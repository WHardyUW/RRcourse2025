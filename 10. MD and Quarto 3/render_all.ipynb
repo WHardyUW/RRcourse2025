{
 "cells": [
  {
   "cell_type": "code",
   "execution_count": 3,
   "id": "3a368665",
   "metadata": {},
   "outputs": [
    {
     "name": "stdout",
     "output_type": "stream",
     "text": [
      "Rendering season 1 -> season_1.html\n",
      "Rendering season 2 -> season_2.html\n",
      "Rendering season 3 -> season_3.html\n",
      "Rendering season 4 -> season_4.html\n",
      "Rendering season 5 -> season_5.html\n",
      "Rendering season 6 -> season_6.html\n",
      "Rendering season 7 -> season_7.html\n",
      "Rendering season 8 -> season_8.html\n"
     ]
    }
   ],
   "source": [
    "import subprocess\n",
    "\n",
    "for season in range(1, 9):  \n",
    "    output_file = f\"season_{season}.html\"\n",
    "    command = [\n",
    "        \"quarto\",\n",
    "        \"render\",\n",
    "        \"Assignment.qmd\", \n",
    "        \"-P\", f\"season={season}\",\n",
    "        \"--output\", output_file\n",
    "    ]\n",
    "    print(f\"Rendering season {season} -> {output_file}\")\n",
    "    subprocess.run(command)"
   ]
  },
  {
   "cell_type": "code",
   "execution_count": 4,
   "id": "2591b8fe",
   "metadata": {},
   "outputs": [
    {
     "name": "stdout",
     "output_type": "stream",
     "text": [
      "Rendering season 1 -> season_1.pdf\n",
      "Rendering season 2 -> season_2.pdf\n",
      "Rendering season 3 -> season_3.pdf\n",
      "Rendering season 4 -> season_4.pdf\n",
      "Rendering season 5 -> season_5.pdf\n",
      "Rendering season 6 -> season_6.pdf\n",
      "Rendering season 7 -> season_7.pdf\n",
      "Rendering season 8 -> season_8.pdf\n"
     ]
    }
   ],
   "source": [
    "import subprocess\n",
    "\n",
    "for season in range(1, 9):  \n",
    "    output_file = f\"season_{season}.pdf\"\n",
    "    command = [\n",
    "        \"quarto\",\n",
    "        \"render\",\n",
    "        \"Assignment.qmd\",\n",
    "        \"-P\", f\"season={season}\",\n",
    "        \"--output\", output_file,\n",
    "        \"--to\", \"pdf\"  \n",
    "    ]\n",
    "    print(f\"Rendering season {season} -> {output_file}\")\n",
    "    subprocess.run(command)"
   ]
  },
  {
   "cell_type": "code",
   "execution_count": null,
   "id": "2f1e471c",
   "metadata": {},
   "outputs": [],
   "source": []
  }
 ],
 "metadata": {
  "kernelspec": {
   "display_name": "Python 3",
   "language": "python",
   "name": "python3"
  },
  "language_info": {
   "codemirror_mode": {
    "name": "ipython",
    "version": 3
   },
   "file_extension": ".py",
   "mimetype": "text/x-python",
   "name": "python",
   "nbconvert_exporter": "python",
   "pygments_lexer": "ipython3",
   "version": "3.13.2"
  }
 },
 "nbformat": 4,
 "nbformat_minor": 5
}
